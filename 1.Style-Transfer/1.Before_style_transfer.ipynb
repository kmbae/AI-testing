{
 "cells": [
  {
   "cell_type": "markdown",
   "metadata": {
    "colab_type": "text",
    "id": "zTCVcSt36oGA"
   },
   "source": [
    "# Neural Style Transfer\n",
    "Gaty et. al, Image Style Transfer Using Convolutional Neural Networks, CVPR 2016\n",
    "\n",
    "## Import Libraries\n",
    "필요한 라이브러리들을 가져옵니다."
   ]
  },
  {
   "cell_type": "code",
   "execution_count": 1,
   "metadata": {
    "colab": {
     "base_uri": "https://localhost:8080/",
     "height": 35
    },
    "colab_type": "code",
    "executionInfo": {
     "elapsed": 4168,
     "status": "ok",
     "timestamp": 1577411758990,
     "user": {
      "displayName": "Kangmin Bae",
      "photoUrl": "",
      "userId": "16142197103916175299"
     },
     "user_tz": -540
    },
    "id": "TS-S935Nyf2R",
    "outputId": "07b3bbcc-13b0-4006-b275-31531be85373"
   },
   "outputs": [
    {
     "name": "stdout",
     "output_type": "stream",
     "text": [
      "Populating the interactive namespace from numpy and matplotlib\n"
     ]
    }
   ],
   "source": [
    "%pylab inline\n",
    "import time\n",
    "import os \n",
    "\n",
    "import torch\n",
    "import torch.nn as nn\n",
    "import torch.nn.functional as F\n",
    "from torch import optim\n",
    "import matplotlib.pyplot as plt\n",
    "import torchvision\n",
    "from torchvision import transforms\n",
    "\n",
    "from PIL import Image\n",
    "\n",
    "from collections import OrderedDict\n"
   ]
  },
  {
   "cell_type": "markdown",
   "metadata": {
    "colab": {},
    "colab_type": "code",
    "id": "N6_OLDwt6oGO"
   },
   "source": [
    "## Reshaping matrix\n",
    "The shape of $a$ is $3\\times2$ tensor.\n",
    "\n",
    "$$a=\n",
    "\\begin{bmatrix}\n",
    "1& 2\\\\\n",
    "3& 4\\\\\n",
    "5& 6\n",
    "\\end{bmatrix}$$\n",
    "\n",
    "Let $b$ as a reshaped tensor which has shape of $2\\times3$.\n",
    "\n",
    "$$b=\n",
    "\\begin{bmatrix}\n",
    "1& 2 & 3\\\\\n",
    "4& 5 & 6\n",
    "\\end{bmatrix}$$\n",
    "\n"
   ]
  },
  {
   "cell_type": "code",
   "execution_count": 2,
   "metadata": {},
   "outputs": [
    {
     "name": "stdout",
     "output_type": "stream",
     "text": [
      "Tensor a is: \n",
      "tensor([[1., 2.],\n",
      "        [3., 4.],\n",
      "        [5., 6.]])\n",
      "Tensor a is: torch.Size([3, 2])\n",
      "Tensor b is: \n",
      "tensor([[1., 2., 3.],\n",
      "        [4., 5., 6.]])\n",
      "Tensor b is: torch.Size([2, 3])\n"
     ]
    }
   ],
   "source": [
    "a = torch.Tensor([[1,2],[3,4], [5,6]])\n",
    "print(\"Tensor a is: \\n{}\".format(a))\n",
    "print(\"Tensor a is: {}\".format(a.shape))\n",
    "\n",
    "b = a.view(2, -1)\n",
    "print(\"Tensor b is: \\n{}\".format(b))\n",
    "print(\"Tensor b is: {}\".format(b.shape))"
   ]
  },
  {
   "cell_type": "code",
   "execution_count": 3,
   "metadata": {
    "colab": {},
    "colab_type": "code",
    "id": "Plvi53DU6oGH"
   },
   "outputs": [
    {
     "name": "stdout",
     "output_type": "stream",
     "text": [
      "Original tensor shape is: torch.Size([1, 3, 224, 224])\n",
      "Reshaped tensor shape is: torch.Size([1, 3, 50176])\n"
     ]
    }
   ],
   "source": [
    "x = torch.rand((1,3,224,224))\n",
    "print(\"Original tensor shape is: {}\".format(x.shape))\n",
    "\n",
    "x = x.view(1,3,-1)\n",
    "print(\"Reshaped tensor shape is: {}\".format(x.shape))"
   ]
  },
  {
   "cell_type": "markdown",
   "metadata": {
    "colab_type": "text",
    "id": "ngcywy-PEFvh"
   },
   "source": [
    "## Tranpose\n",
    "$$a=\n",
    "\\begin{bmatrix}\n",
    "1& 2\\\\\n",
    "3& 4\n",
    "\\end{bmatrix}$$\n",
    "\n",
    "$$a^T=\n",
    "\\begin{bmatrix}\n",
    "1& 3\\\\\n",
    "2& 4\n",
    "\\end{bmatrix}$$"
   ]
  },
  {
   "cell_type": "code",
   "execution_count": 4,
   "metadata": {
    "colab": {
     "base_uri": "https://localhost:8080/",
     "height": 125
    },
    "colab_type": "code",
    "executionInfo": {
     "elapsed": 851,
     "status": "ok",
     "timestamp": 1577411759848,
     "user": {
      "displayName": "Kangmin Bae",
      "photoUrl": "",
      "userId": "16142197103916175299"
     },
     "user_tz": -540
    },
    "id": "QWo3XBH0EIVq",
    "outputId": "aedba8ec-e7b3-4fe7-90c5-9ce5fd6fb3a5"
   },
   "outputs": [
    {
     "name": "stdout",
     "output_type": "stream",
     "text": [
      "Tensor a is: \n",
      "tensor([[1., 2.],\n",
      "        [3., 4.]])\n",
      "Tensor a^T is: \n",
      "tensor([[1., 3.],\n",
      "        [2., 4.]])\n"
     ]
    }
   ],
   "source": [
    "x1 = torch.Tensor([[1,2],[3,4]])\n",
    "print(\"Tensor a is: \\n{}\".format(x1))\n",
    "\n",
    "x1_t = x1.t()\n",
    "print(\"Tensor a^T is: \\n{}\".format(x1_t))"
   ]
  },
  {
   "cell_type": "markdown",
   "metadata": {
    "colab_type": "text",
    "id": "THY4pMRn6oGJ"
   },
   "source": [
    "## Matrix multiplication\n",
    "PyTorch에서 Matrix의 곱을 하는 방법\n",
    "\n",
    "$$a=\n",
    "\\begin{bmatrix}\n",
    "1& 2\\\\\n",
    "3& 4\n",
    "\\end{bmatrix}$$\n",
    "\n",
    "$$b=\n",
    "\\begin{bmatrix}\n",
    "1& 1\\\\\n",
    "1& 1\n",
    "\\end{bmatrix}$$\n",
    "\n",
    "$$c=a\\times b=\n",
    "\\begin{bmatrix}\n",
    "1& 2\\\\\n",
    "3& 4\n",
    "\\end{bmatrix}\\times\n",
    "\\begin{bmatrix}\n",
    "1& 1\\\\\n",
    "1& 1\n",
    "\\end{bmatrix}=\n",
    "\\begin{bmatrix}\n",
    "3& 3\\\\\n",
    "7& 7\n",
    "\\end{bmatrix}$$"
   ]
  },
  {
   "cell_type": "code",
   "execution_count": 5,
   "metadata": {
    "colab": {},
    "colab_type": "code",
    "id": "l49nkDd5yf2p"
   },
   "outputs": [
    {
     "name": "stdout",
     "output_type": "stream",
     "text": [
      "Tensor a is: \n",
      "tensor([[1., 2.],\n",
      "        [3., 4.]])\n",
      "Tensor b is: \n",
      "tensor([[1., 1.],\n",
      "        [1., 1.]])\n",
      "Tensor a*b is: \n",
      "tensor([[1., 2.],\n",
      "        [3., 4.]])\n",
      "Tensor a × b is: \n",
      "tensor([[3., 3.],\n",
      "        [7., 7.]])\n",
      "Tensor a × b is: \n",
      "tensor([[3., 3.],\n",
      "        [7., 7.]])\n"
     ]
    }
   ],
   "source": [
    "a = torch.Tensor([[1,2],[3,4]])\n",
    "print(\"Tensor a is: \\n{}\".format(a))\n",
    "\n",
    "b = torch.Tensor([[1,1],[1,1]])\n",
    "print(\"Tensor b is: \\n{}\".format(b))\n",
    "\n",
    "c = a*b\n",
    "print(\"Tensor a*b is: \\n{}\".format(c))\n",
    "\n",
    "c = torch.mm(a,b)\n",
    "print(\"Tensor a × b is: \\n{}\".format(c))\n",
    "\n",
    "c = a@b\n",
    "print(\"Tensor a × b is: \\n{}\".format(c))"
   ]
  },
  {
   "cell_type": "markdown",
   "metadata": {
    "colab_type": "text",
    "id": "w5Yl6M406oGL"
   },
   "source": [
    "## MSE loss\n",
    "PyTorch에서 Mean Squared Error(MSE)를 계산하는 방법\n",
    "$$\n",
    "X=\\{1,2,3\\}\n",
    "$$\n",
    "\n",
    "$$\n",
    "Y=\\{3,3,3\\}\n",
    "$$\n",
    "\n",
    "$$\n",
    "\\mathcal{L}(X,Y)= \\frac{1}{3} \\sum^3_{i=1}(x_i-y_i)^2\\text{ where }x_i\\in X, y_i\\in Y$$"
   ]
  },
  {
   "cell_type": "code",
   "execution_count": 6,
   "metadata": {
    "colab": {},
    "colab_type": "code",
    "id": "VN7OV-cq6oGM"
   },
   "outputs": [
    {
     "name": "stdout",
     "output_type": "stream",
     "text": [
      "MSE loss is: 1.6667\n"
     ]
    }
   ],
   "source": [
    "X = torch.Tensor([1,2,3])\n",
    "Y = torch.Tensor([3,3,3])\n",
    "L = nn.MSELoss()(X,Y)\n",
    "print(\"MSE loss is: {:.4f}\".format(L.item()))"
   ]
  },
  {
   "cell_type": "markdown",
   "metadata": {
    "colab_type": "text",
    "id": "w5Yl6M406oGL"
   },
   "source": [
    "## L1 loss\n",
    "PyTorch에서 L1 Error를 계산하는 방법\n",
    "$$\n",
    "X=\\{1,2,3\\}\n",
    "$$\n",
    "\n",
    "$$\n",
    "Y=\\{3,3,3\\}\n",
    "$$\n",
    "\n",
    "$$\n",
    "\\mathcal{L}(X,Y)= \\frac{1}{3} \\sum^3_{i=1}|x_i-y_i|\\text{ where }x_i\\in X, y_i\\in Y$$"
   ]
  },
  {
   "cell_type": "code",
   "execution_count": 7,
   "metadata": {},
   "outputs": [
    {
     "name": "stdout",
     "output_type": "stream",
     "text": [
      "L1 loss is: 1.0000\n"
     ]
    }
   ],
   "source": [
    "X = torch.Tensor([1,2,3])\n",
    "Y = torch.Tensor([3,3,3])\n",
    "L = nn.L1Loss()(X,Y)\n",
    "print(\"L1 loss is: {:.4f}\".format(L.item()))"
   ]
  },
  {
   "cell_type": "code",
   "execution_count": null,
   "metadata": {},
   "outputs": [],
   "source": []
  }
 ],
 "metadata": {
  "accelerator": "GPU",
  "colab": {
   "name": "1.Before_style_transfer.ipynb",
   "provenance": []
  },
  "kernelspec": {
   "display_name": "Python 3",
   "language": "python",
   "name": "python3"
  },
  "language_info": {
   "codemirror_mode": {
    "name": "ipython",
    "version": 3
   },
   "file_extension": ".py",
   "mimetype": "text/x-python",
   "name": "python",
   "nbconvert_exporter": "python",
   "pygments_lexer": "ipython3",
   "version": "3.6.7"
  }
 },
 "nbformat": 4,
 "nbformat_minor": 1
}
