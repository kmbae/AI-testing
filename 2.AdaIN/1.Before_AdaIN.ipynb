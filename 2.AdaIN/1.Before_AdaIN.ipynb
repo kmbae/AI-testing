{
 "cells": [
  {
   "cell_type": "markdown",
   "metadata": {},
   "source": [
    "# Neural Style Transfer (2)\n",
    "Xun Huang et. al Arbitrary Style Transfer in Real-time with Adaptive Instance Normalization, ICCV 2017\n",
    "\n",
    "\n",
    "## Import Libraries\n",
    "필요한 라이브러리들을 가져옵니다."
   ]
  },
  {
   "cell_type": "code",
   "execution_count": 1,
   "metadata": {},
   "outputs": [
    {
     "name": "stdout",
     "output_type": "stream",
     "text": [
      "Populating the interactive namespace from numpy and matplotlib\n"
     ]
    }
   ],
   "source": [
    "%pylab inline\n",
    "\n",
    "\n",
    "import numpy as np\n",
    "import gc\n",
    "import visdom\n",
    "import os\n",
    "import time\n",
    "import numpy as np\n",
    "from os import listdir\n",
    "from PIL import Image\n",
    "from datetime import datetime\n",
    "import ipdb\n",
    "import torch\n",
    "import torch.nn as nn\n",
    "import torch.optim as optim\n",
    "from torch.nn import functional as F\n",
    "from torchvision import utils, transforms, models\n",
    "from torch.autograd import Variable\n",
    "from torch.utils.data import Dataset, DataLoader"
   ]
  },
  {
   "cell_type": "markdown",
   "metadata": {},
   "source": [
    "## Mean & Std\n",
    "PyTorch에서 평균과 표준편차는 다음 방법으로 쉽게 계산할 수 있습니다.\n",
    "\n",
    "`torch.randn`은 $X\\sim\\mathcal{N}(0,1)$에서 샘플링하는 함수입니다.(Normal distribution)\n",
    "\n",
    "`torch.rand`은 $Y\\sim\\mathcal{U}[0,1)$에서 샘플링하는 함수입니다.(Uniform sampling)"
   ]
  },
  {
   "cell_type": "code",
   "execution_count": 2,
   "metadata": {},
   "outputs": [
    {
     "name": "stdout",
     "output_type": "stream",
     "text": [
      "x: tensor([-1.4047,  0.3893, -0.0193, -0.3713,  0.8378,  0.1992, -0.8536, -1.1079,\n",
      "        -1.2084, -0.4172])\n",
      "Mean of x: -0.3956086337566376\n",
      "Std of x: 0.747566819190979\n",
      "y: tensor([0.6744, 0.5997, 0.1499, 0.0189, 0.4490, 0.9363, 0.4462, 0.2701, 0.0557,\n",
      "        0.5478])\n",
      "Mean of y: 0.4147930145263672\n",
      "Std of y: 0.29252907633781433\n"
     ]
    }
   ],
   "source": [
    "x = torch.randn(10)\n",
    "print(\"x: {}\".format(x))\n",
    "print(\"Mean of x: {}\".format(torch.mean(x)))\n",
    "print(\"Std of x: {}\".format(torch.std(x)))\n",
    "\n",
    "y = torch.rand(10)\n",
    "print(\"y: {}\".format(y))\n",
    "print(\"Mean of y: {}\".format(torch.mean(y)))\n",
    "print(\"Std of y: {}\".format(torch.std(y)))"
   ]
  },
  {
   "cell_type": "markdown",
   "metadata": {},
   "source": [
    "만약 $x$가 Tensor이고 사용자가 원하는 dimension에 대해서만 평균 및 표준편차를 계산하고 싶을때"
   ]
  },
  {
   "cell_type": "code",
   "execution_count": 3,
   "metadata": {
    "scrolled": true
   },
   "outputs": [
    {
     "name": "stdout",
     "output_type": "stream",
     "text": [
      "Mean of x for all dims: 0.00037972815334796906\n",
      "Std of x for all dims: 1.000279188156128\n",
      "Mean of x for dim [2,3]: tensor([[ 0.0009, -0.0017,  0.0044],\n",
      "        [ 0.0012, -0.0009, -0.0017]])\n",
      "Std of x for dim [2,3]: tensor([[0.9967, 1.0048, 1.0001],\n",
      "        [0.9984, 0.9988, 1.0030]])\n"
     ]
    }
   ],
   "source": [
    "x = torch.randn(2,3,224,224)\n",
    "print(\"Mean of x for all dims: {}\".format(torch.mean(x)))\n",
    "print(\"Std of x for all dims: {}\".format(torch.std(x)))\n",
    "print(\"Mean of x for dim [2,3]: {}\".format(torch.mean(x, [2,3])))\n",
    "print(\"Std of x for dim [2,3]: {}\".format(torch.std(x, [2,3])))"
   ]
  },
  {
   "cell_type": "markdown",
   "metadata": {},
   "source": [
    "## Normalization\n",
    "$X$의 평균이 $\\mu$이고 표준편차가 $\\sigma$일때 다음과 같이 정규화 가능합니다.\n",
    "$$z = \\frac{x-\\mu}{\\sigma}$$\n",
    "\n",
    "위에서 사용한 `torch.mean`과 `torch.std`를 이용하여 다음과 같이 $z$를 계산하고 평균과 표준편차를 계산해보겠습니다."
   ]
  },
  {
   "cell_type": "code",
   "execution_count": 4,
   "metadata": {},
   "outputs": [
    {
     "name": "stdout",
     "output_type": "stream",
     "text": [
      "Mean of x: tensor([[0.5000, 0.4994, 0.5003],\n",
      "        [0.4985, 0.5014, 0.4999]])\n",
      "Std of x: tensor([[0.2886, 0.2888, 0.2883],\n",
      "        [0.2892, 0.2898, 0.2890]])\n"
     ]
    },
    {
     "ename": "RuntimeError",
     "evalue": "The size of tensor a (224) must match the size of tensor b (3) at non-singleton dimension 3",
     "output_type": "error",
     "traceback": [
      "\u001b[0;31m---------------------------------------------------------------------------\u001b[0m",
      "\u001b[0;31mRuntimeError\u001b[0m                              Traceback (most recent call last)",
      "\u001b[0;32m<ipython-input-4-c18592d65178>\u001b[0m in \u001b[0;36m<module>\u001b[0;34m\u001b[0m\n\u001b[1;32m      3\u001b[0m \u001b[0mprint\u001b[0m\u001b[0;34m(\u001b[0m\u001b[0;34m\"Std of x: {}\"\u001b[0m\u001b[0;34m.\u001b[0m\u001b[0mformat\u001b[0m\u001b[0;34m(\u001b[0m\u001b[0mtorch\u001b[0m\u001b[0;34m.\u001b[0m\u001b[0mstd\u001b[0m\u001b[0;34m(\u001b[0m\u001b[0mx\u001b[0m\u001b[0;34m,\u001b[0m \u001b[0;34m[\u001b[0m\u001b[0;36m2\u001b[0m\u001b[0;34m,\u001b[0m\u001b[0;36m3\u001b[0m\u001b[0;34m]\u001b[0m\u001b[0;34m)\u001b[0m\u001b[0;34m)\u001b[0m\u001b[0;34m)\u001b[0m\u001b[0;34m\u001b[0m\u001b[0;34m\u001b[0m\u001b[0m\n\u001b[1;32m      4\u001b[0m \u001b[0;34m\u001b[0m\u001b[0m\n\u001b[0;32m----> 5\u001b[0;31m \u001b[0mz\u001b[0m\u001b[0;34m=\u001b[0m\u001b[0;34m(\u001b[0m\u001b[0mx\u001b[0m \u001b[0;34m-\u001b[0m \u001b[0mtorch\u001b[0m\u001b[0;34m.\u001b[0m\u001b[0mmean\u001b[0m\u001b[0;34m(\u001b[0m\u001b[0mx\u001b[0m\u001b[0;34m,\u001b[0m \u001b[0;34m[\u001b[0m\u001b[0;36m2\u001b[0m\u001b[0;34m,\u001b[0m\u001b[0;36m3\u001b[0m\u001b[0;34m]\u001b[0m\u001b[0;34m)\u001b[0m\u001b[0;34m)\u001b[0m\u001b[0;34m/\u001b[0m\u001b[0mtorch\u001b[0m\u001b[0;34m.\u001b[0m\u001b[0mstd\u001b[0m\u001b[0;34m(\u001b[0m\u001b[0mx\u001b[0m\u001b[0;34m,\u001b[0m \u001b[0;34m[\u001b[0m\u001b[0;36m2\u001b[0m\u001b[0;34m,\u001b[0m\u001b[0;36m3\u001b[0m\u001b[0;34m]\u001b[0m\u001b[0;34m)\u001b[0m\u001b[0;34m\u001b[0m\u001b[0;34m\u001b[0m\u001b[0m\n\u001b[0m\u001b[1;32m      6\u001b[0m \u001b[0mprint\u001b[0m\u001b[0;34m(\u001b[0m\u001b[0;34m\"Mean of z: {}\"\u001b[0m\u001b[0;34m.\u001b[0m\u001b[0mformat\u001b[0m\u001b[0;34m(\u001b[0m\u001b[0mtorch\u001b[0m\u001b[0;34m.\u001b[0m\u001b[0mmean\u001b[0m\u001b[0;34m(\u001b[0m\u001b[0mz\u001b[0m\u001b[0;34m,\u001b[0m \u001b[0;34m[\u001b[0m\u001b[0;36m2\u001b[0m\u001b[0;34m,\u001b[0m\u001b[0;36m3\u001b[0m\u001b[0;34m]\u001b[0m\u001b[0;34m)\u001b[0m\u001b[0;34m)\u001b[0m\u001b[0;34m)\u001b[0m\u001b[0;34m\u001b[0m\u001b[0;34m\u001b[0m\u001b[0m\n\u001b[1;32m      7\u001b[0m \u001b[0mprint\u001b[0m\u001b[0;34m(\u001b[0m\u001b[0;34m\"Std of z: {}\"\u001b[0m\u001b[0;34m.\u001b[0m\u001b[0mformat\u001b[0m\u001b[0;34m(\u001b[0m\u001b[0mtorch\u001b[0m\u001b[0;34m.\u001b[0m\u001b[0mstd\u001b[0m\u001b[0;34m(\u001b[0m\u001b[0mz\u001b[0m\u001b[0;34m,\u001b[0m \u001b[0;34m[\u001b[0m\u001b[0;36m2\u001b[0m\u001b[0;34m,\u001b[0m\u001b[0;36m3\u001b[0m\u001b[0;34m]\u001b[0m\u001b[0;34m)\u001b[0m\u001b[0;34m)\u001b[0m\u001b[0;34m)\u001b[0m\u001b[0;34m\u001b[0m\u001b[0;34m\u001b[0m\u001b[0m\n",
      "\u001b[0;31mRuntimeError\u001b[0m: The size of tensor a (224) must match the size of tensor b (3) at non-singleton dimension 3"
     ]
    }
   ],
   "source": [
    "x = torch.rand(2,3,224,224)\n",
    "print(\"Mean of x: {}\".format(torch.mean(x, [2,3])))\n",
    "print(\"Std of x: {}\".format(torch.std(x, [2,3])))\n",
    "\n",
    "z=(x - torch.mean(x, [2,3]))/torch.std(x, [2,3])\n",
    "print(\"Mean of z: {}\".format(torch.mean(z, [2,3])))\n",
    "print(\"Std of z: {}\".format(torch.std(z, [2,3])))"
   ]
  },
  {
   "cell_type": "markdown",
   "metadata": {},
   "source": [
    "multiplication과 division에서 dimension이 맞지 않을 경우 위와 같은 에러를 확인할 수 있습니다.\n",
    "\n",
    "평균과 표준편차를 계산하면서 차원이 감소해서 발생한 문제입니다.\n",
    "\n",
    "`keepdim`이라는 인자를 사용하여 차원 감소 없이 평균과 표준편차를 계산할 수 있습니다."
   ]
  },
  {
   "cell_type": "code",
   "execution_count": 5,
   "metadata": {},
   "outputs": [
    {
     "name": "stdout",
     "output_type": "stream",
     "text": [
      "Mean of x: tensor([[0.5014, 0.5014, 0.5014],\n",
      "        [0.5009, 0.4994, 0.5010]])\n",
      "Std of x: tensor([[0.2886, 0.2882, 0.2881],\n",
      "        [0.2888, 0.2882, 0.2881]])\n",
      "Mean of z: tensor([[ 3.5307e-07,  3.4136e-08,  1.3609e-07],\n",
      "        [-6.4812e-08, -1.7114e-07,  1.0035e-08]])\n",
      "Std of z: tensor([[1.0000, 1.0000, 1.0000],\n",
      "        [1.0000, 1.0000, 1.0000]])\n"
     ]
    }
   ],
   "source": [
    "x = torch.rand(2,3,224,224)\n",
    "print(\"Mean of x: {}\".format(torch.mean(x, [2,3])))\n",
    "print(\"Std of x: {}\".format(torch.std(x, [2,3])))\n",
    "\n",
    "z=(x - torch.mean(x, [2,3], keepdim=True))/torch.std(x, [2,3], keepdim=True)\n",
    "print(\"Mean of z: {}\".format(torch.mean(z, [2,3])))\n",
    "print(\"Std of z: {}\".format(torch.std(z, [2,3])))"
   ]
  },
  {
   "cell_type": "code",
   "execution_count": 8,
   "metadata": {},
   "outputs": [
    {
     "name": "stdout",
     "output_type": "stream",
     "text": [
      "torch.Size([2, 3, 224, 224])\n",
      "torch.Size([])\n",
      "torch.Size([2, 3])\n"
     ]
    }
   ],
   "source": [
    "x = torch.rand(2,3,224,224)\n",
    "print(x.shape)\n",
    "print(torch.mean(x).shape)\n",
    "print(torch.mean(x, [2,3]).shape)"
   ]
  },
  {
   "cell_type": "code",
   "execution_count": null,
   "metadata": {},
   "outputs": [],
   "source": []
  }
 ],
 "metadata": {
  "kernelspec": {
   "display_name": "Python 3",
   "language": "python",
   "name": "python3"
  },
  "language_info": {
   "codemirror_mode": {
    "name": "ipython",
    "version": 3
   },
   "file_extension": ".py",
   "mimetype": "text/x-python",
   "name": "python",
   "nbconvert_exporter": "python",
   "pygments_lexer": "ipython3",
   "version": "3.6.7"
  }
 },
 "nbformat": 4,
 "nbformat_minor": 2
}
